{
 "cells": [
  {
   "cell_type": "markdown",
   "id": "78b1e14f",
   "metadata": {},
   "source": [
    "## Weather Observation Station 5\n",
    "\n",
    "Query the two cities in STATION with the shortest and longest CITY names, as well as their respective lengths (i.e.: number of characters in the name). If there is more than one smallest or largest city, choose the one that comes first when ordered alphabetically.\n",
    "The STATION table is described as follows:\n",
    "![table](images/table.png)\n",
    "\n",
    "where LAT_N is the northern latitude and LONG_W is the western longitude.\n",
    "\n",
    "Sample Input\n",
    "For example, CITY has four entries: DEF, ABC, PQRS and WXY.\n",
    "\n",
    "Sample Output:\n",
    "![sample_Output](images/sample_station_5.png)\n",
    "\n",
    "Explanation:\n",
    "When ordered alphabetically, the CITY names are listed as ABC, DEF, PQRS, and WXY, with lengths  and . The longest name is PQRS, but there are  options for shortest named city. Choose ABC, because it comes first alphabetically.\n",
    "\n",
    "Note:\n",
    "You can write two separate queries to get the desired output. It need not be a single query.\n",
    "\n",
    "### My solution"
   ]
  },
  {
   "cell_type": "code",
   "execution_count": null,
   "id": "34ad754e",
   "metadata": {},
   "outputs": [],
   "source": [
    "SELECT city, char_length(city) AS city_len\n",
    "FROM station\n",
    "ORDER BY city_len ASC, city ASC\n",
    "LIMIT 1;\n",
    "\n",
    "SELECT city, char_length(city) AS city_len\n",
    "FROM station\n",
    "ORDER BY city_len DESC, city DESC\n",
    "LIMIT 1;"
   ]
  },
  {
   "cell_type": "markdown",
   "id": "79dfa966",
   "metadata": {},
   "source": [
    "![actual_Output](images/station_5.png)\n",
    "\n",
    "## Weather Observation Station 6\n",
    "\n",
    "Query the list of CITY names starting with vowels (i.e., a, e, i, o, or u) from STATION. Your result cannot contain duplicates."
   ]
  },
  {
   "cell_type": "code",
   "execution_count": null,
   "id": "8e159f0c",
   "metadata": {},
   "outputs": [],
   "source": [
    "SELECT DISTINCT city\n",
    "FROM station\n",
    "WHERE LOWER(LEFT(city,1)) IN (\"a\", \"e\", \"i\", \"o\", \"u\");"
   ]
  },
  {
   "cell_type": "markdown",
   "id": "d33d0cea",
   "metadata": {},
   "source": [
    "![actual_solution2](images/station_6.png)\n",
    "\n",
    "## Weather Observation Station 7\n",
    "\n",
    "Query the list of CITY names ending with vowels (a, e, i, o, u) from STATION. Your result cannot contain duplicates."
   ]
  },
  {
   "cell_type": "code",
   "execution_count": null,
   "id": "f281ae72",
   "metadata": {},
   "outputs": [],
   "source": [
    "SELECT DISTINCT city\n",
    "FROM station\n",
    "WHERE LOWER(RIGHT(city,1)) IN (\"a\", \"e\", \"i\", \"o\", \"u\");"
   ]
  },
  {
   "cell_type": "markdown",
   "id": "cd666f5c",
   "metadata": {},
   "source": [
    "![actual_solution3](images/station_7.png)\n",
    "\n",
    "## Weather Observation Station 8\n",
    "\n",
    "Query the list of CITY names from STATION which have vowels (i.e., a, e, i, o, and u) as both their first and last characters. Your result cannot contain duplicates."
   ]
  },
  {
   "cell_type": "code",
   "execution_count": null,
   "id": "e428189a",
   "metadata": {},
   "outputs": [],
   "source": [
    "SELECT DISTINCT city\n",
    "FROM station\n",
    "WHERE LOWER(LEFT(city,1)) IN (\"a\", \"e\", \"i\", \"o\", \"u\")\n",
    "AND LOWER(RIGHT(city, 1)) IN (\"a\", \"e\", \"i\", \"o\", \"u\");"
   ]
  },
  {
   "cell_type": "markdown",
   "id": "39cbca5a",
   "metadata": {},
   "source": [
    "![station_8](images/station_8.png)\n",
    "\n",
    "## Weather Observation Station 9\n",
    "\n",
    "Query the list of CITY names from STATION that do not start with vowels. Your result cannot contain duplicates."
   ]
  },
  {
   "cell_type": "code",
   "execution_count": null,
   "id": "3446d253",
   "metadata": {},
   "outputs": [],
   "source": [
    "SELECT DISTINCT city\n",
    "FROM station\n",
    "WHERE LOWER(LEFT(city,1)) NOT IN (\"a\", \"e\", \"i\", \"o\", \"u\");"
   ]
  },
  {
   "cell_type": "markdown",
   "id": "ee941aff",
   "metadata": {},
   "source": [
    "![station_9](images/station_9.png)\n",
    "\n",
    "## Weather Observation Station 10\n",
    "\n",
    "Query the list of CITY names from STATION that do not end with vowels. Your result cannot contain duplicates."
   ]
  },
  {
   "cell_type": "code",
   "execution_count": null,
   "id": "1d629170",
   "metadata": {},
   "outputs": [],
   "source": [
    "SELECT DISTINCT city\n",
    "FROM station\n",
    "WHERE LOWER(RIGHT(city,1)) NOT IN (\"a\", \"e\", \"i\", \"o\", \"u\");"
   ]
  },
  {
   "cell_type": "markdown",
   "id": "4303ba7c",
   "metadata": {},
   "source": [
    "![station_10](images/station_10.png)"
   ]
  },
  {
   "cell_type": "code",
   "execution_count": null,
   "id": "584976ba",
   "metadata": {},
   "outputs": [],
   "source": []
  }
 ],
 "metadata": {
  "kernelspec": {
   "display_name": "Python 3 (ipykernel)",
   "language": "python",
   "name": "python3"
  },
  "language_info": {
   "codemirror_mode": {
    "name": "ipython",
    "version": 3
   },
   "file_extension": ".py",
   "mimetype": "text/x-python",
   "name": "python",
   "nbconvert_exporter": "python",
   "pygments_lexer": "ipython3",
   "version": "3.11.2"
  }
 },
 "nbformat": 4,
 "nbformat_minor": 5
}
