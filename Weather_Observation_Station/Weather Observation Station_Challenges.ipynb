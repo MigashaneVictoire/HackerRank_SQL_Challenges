{
 "cells": [
  {
   "cell_type": "markdown",
   "id": "78b1e14f",
   "metadata": {},
   "source": [
    "## Weather Observation Station 5\n",
    "\n",
    "Query the two cities in STATION with the shortest and longest CITY names, as well as their respective lengths (i.e.: number of characters in the name). If there is more than one smallest or largest city, choose the one that comes first when ordered alphabetically.\n",
    "The STATION table is described as follows:\n",
    "![table](images/table.png)\n",
    "\n",
    "where LAT_N is the northern latitude and LONG_W is the western longitude.\n",
    "\n",
    "Sample Input\n",
    "For example, CITY has four entries: DEF, ABC, PQRS and WXY.\n",
    "\n",
    "Sample Output:\n",
    "![sample_Output](images/sample_station_5.png)\n",
    "\n",
    "Explanation:\n",
    "When ordered alphabetically, the CITY names are listed as ABC, DEF, PQRS, and WXY, with lengths  and . The longest name is PQRS, but there are  options for shortest named city. Choose ABC, because it comes first alphabetically.\n",
    "\n",
    "Note:\n",
    "You can write two separate queries to get the desired output. It need not be a single query.\n",
    "\n",
    "### My solution"
   ]
  },
  {
   "cell_type": "code",
   "execution_count": null,
   "id": "34ad754e",
   "metadata": {},
   "outputs": [],
   "source": [
    "SELECT city, char_length(city) AS city_len\n",
    "FROM station\n",
    "ORDER BY city_len ASC, city ASC\n",
    "LIMIT 1;\n",
    "\n",
    "SELECT city, char_length(city) AS city_len\n",
    "FROM station\n",
    "ORDER BY city_len DESC, city DESC\n",
    "LIMIT 1;"
   ]
  },
  {
   "cell_type": "markdown",
   "id": "79dfa966",
   "metadata": {},
   "source": [
    "![actual_Output](images/station_5.png)\n",
    "\n",
    "## Weather Observation Station 6\n",
    "\n",
    "Query the list of CITY names starting with vowels (i.e., a, e, i, o, or u) from STATION. Your result cannot contain duplicates."
   ]
  },
  {
   "cell_type": "code",
   "execution_count": null,
   "id": "8e159f0c",
   "metadata": {},
   "outputs": [],
   "source": [
    "SELECT DISTINCT city\n",
    "FROM station\n",
    "WHERE LOWER(LEFT(city,1)) IN (\"a\", \"e\", \"i\", \"o\", \"u\");"
   ]
  },
  {
   "cell_type": "markdown",
   "id": "d33d0cea",
   "metadata": {},
   "source": [
    "![actual_solution2](images/station_6.png)\n",
    "\n",
    "## Weather Observation Station 7\n",
    "\n",
    "Query the list of CITY names ending with vowels (a, e, i, o, u) from STATION. Your result cannot contain duplicates."
   ]
  },
  {
   "cell_type": "code",
   "execution_count": null,
   "id": "f281ae72",
   "metadata": {},
   "outputs": [],
   "source": [
    "SELECT DISTINCT city\n",
    "FROM station\n",
    "WHERE LOWER(RIGHT(city,1)) IN (\"a\", \"e\", \"i\", \"o\", \"u\");"
   ]
  },
  {
   "cell_type": "markdown",
   "id": "cd666f5c",
   "metadata": {},
   "source": [
    "![actual_solution3](images/station_7.png)"
   ]
  },
  {
   "cell_type": "code",
   "execution_count": null,
   "id": "e428189a",
   "metadata": {},
   "outputs": [],
   "source": []
  }
 ],
 "metadata": {
  "kernelspec": {
   "display_name": "Python 3 (ipykernel)",
   "language": "python",
   "name": "python3"
  },
  "language_info": {
   "codemirror_mode": {
    "name": "ipython",
    "version": 3
   },
   "file_extension": ".py",
   "mimetype": "text/x-python",
   "name": "python",
   "nbconvert_exporter": "python",
   "pygments_lexer": "ipython3",
   "version": "3.11.2"
  }
 },
 "nbformat": 4,
 "nbformat_minor": 5
}
